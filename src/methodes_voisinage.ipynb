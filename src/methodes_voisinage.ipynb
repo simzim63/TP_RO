{
 "cells": [
  {
   "cell_type": "markdown",
   "metadata": {},
   "source": [
    "## TP Allocation de fréquences\n",
    "\n",
    "Le but est d'allouer des fréquences à des antennes de telle sorte que celles qui doivent pouvoir communiquer aient des fréquences proches, spécifié par un écart maximum entre les fréquences.\n",
    "\n",
    "- Modèle : boîte noire dans le cadre du TP.\n",
    "- Paramètres : une fréquence par antenne dans un domaine qui lui est propre.\n",
    "- Objectif : minimiser le nombre d'écarts non respectés.\n",
    "\n",
    "### Quelques données sur le problème en entrée\n",
    "- 50 antennes\n",
    "- 4 domaines différents\n",
    "- 78 écarts à respecter (donc objectif entre 0 et 78).\n",
    "\n",
    "<img src=\"optimizers/donnees.png\" style=\"width: 700px;\"/>\n",
    "\n",
    "### Etude :\n",
    "- Etudier l'impact du choix de la fonction d'évaluation (voir plus bas) et de la méthode employée pour la recherche d'une solution optimale.\n",
    "- Constater l'impact du choix du point de départ (aléatoire ici) sur les performances.\n"
   ]
  },
  {
   "cell_type": "markdown",
   "metadata": {},
   "source": [
    "### Bloc de chargement du problème.\n",
    "\n",
    "Remplacer \"if False\" par \"if True\" pour afficher les graphiques de visualisation des données."
   ]
  },
  {
   "cell_type": "code",
   "execution_count": 2,
   "metadata": {},
   "outputs": [
    {
     "name": "stdout",
     "output_type": "stream",
     "text": [
      "Using matplotlib backend: TkAgg\n",
      "[2, 0, 0, 0, 0, 0, 1, 1, 0, 0, 0, 0, 0, 0, 0, 0, 0, 2, 0, 0, 0, 0, 0, 0, 0, 0, 0, 3, 3, 0, 0, 0, 0, 0, 0, 0, 0, 0, 1, 1, 0, 0, 2, 0, 0, 0, 1, 0, 0, 0]\n",
      "[0 1 2 3] [40  5  3  2]\n"
     ]
    }
   ],
   "source": [
    "%matplotlib \n",
    "\n",
    "import sys\n",
    "sys.path.append('..')\n",
    "from src.problem import load_problem\n",
    "from src.evaluation import creer_matrice_ecarts\n",
    "import numpy as np \n",
    "import matplotlib.pyplot as plt\n",
    "\n",
    "# Chargement du fichier problème\n",
    "problem = load_problem(\"../tests/optimizers/fapp05_0050.coo\")\n",
    "\n",
    "\n",
    "# Exploration des données :\n",
    "if False: # mettre à True pour afficher la visualisation\n",
    "    fig, ax = plt.subplots(2,2)\n",
    "    ax[0][0].plot([0,0], [2180,2716])\n",
    "    ax[0][0].plot([1,1], [2488,2584])\n",
    "    ax[0][0].plot([2,2], [2384,2716])\n",
    "    ax[0][0].plot([3,3], [2412,2600])\n",
    "    ax[0][0].set_xlabel('Domaine')\n",
    "    ax[0][0].set_ylabel('Fréquence')\n",
    "\n",
    "    file = open('../tests/fapp05_0050.coo', 'r')\n",
    "    data = dict()\n",
    "    data['frequence'] = []\n",
    "    data['contrainte'] = []\n",
    "    data['ValContrainte'] = []\n",
    "    for line in file.readlines():\n",
    "        a = line.split()\n",
    "        if a[0] == \"TR\":\n",
    "            data['frequence'].append(int(a[2]))\n",
    "        if a[0] == \"CE\":\n",
    "            data['contrainte'].append(int(a[1]))\n",
    "            data['contrainte'].append(int(a[2]))\n",
    "            data['ValContrainte'].append(int(a[3]))\n",
    "    \n",
    "    print(data['frequence'])\n",
    "    freq_label, freq_count = np.unique(data['frequence'], return_counts = True)\n",
    "    print(freq_label, freq_count)\n",
    "    ax[1][0].bar(freq_label, freq_count, align = \"center\")\n",
    "    ax[1][0].set_xlabel('Domaine')\n",
    "    ax[1][0].set_ylabel('Nombre de fréquences')\n",
    "    \n",
    "    contrainte_label, contrainte_count = np.unique(data['contrainte'], return_counts = True)\n",
    "    ax[0][1].bar(contrainte_label, contrainte_count)\n",
    "    ax[0][1].set_xlabel('Indice antenne')\n",
    "    ax[0][1].set_ylabel(\"Nombre d'écarts\")\n",
    "    \n",
    "    valeur_label, valeur_count = np.unique(data['ValContrainte'], return_counts = True)\n",
    "    ax[1][1].bar(valeur_label, valeur_count)\n",
    "    ax[1][1].set_xlabel(\"Valeur de l'écart\")\n",
    "    ax[1][1].set_ylabel(\"Nombre d'écarts\")\n",
    "\n",
    "    fig.tight_layout()"
   ]
  },
  {
   "cell_type": "markdown",
   "metadata": {},
   "source": [
    "### Fonction évaluation\n",
    "\n",
    "Les différentes méthodes cherchent à optimiser un objectif, mais des fois utiliser directement cet objectif pour guider l'exploration peut faire tomber les méthodes dans des optimum locaux. Ici on utilise une fonction d'évaluation qui donne un score à chaque solution, pas forcément l'objectif lui-même, et les méthodes vont chercher à optimiser cette fonction d'évaluation. Il faut bien sûr que la minimisation de la fonction d'évaluation entraîne la minimisation de l'objectif pour que cette démarche fonctionne. Voici les fonctions d'évaluation que vous pouvez utiliser (remplacer la valeur à la ligne \"evaluation = ...\") :\n",
    "\n",
    "- np.count_nonzero(eval_matrix) : nombre d'écarts non respectés (vrai objectif);\n",
    "- eval_matrix.sum() : somme des différences aux écarts non respectés;\n",
    "- eval_matrix.max() : maximum des différences aux écarts non respectés;\n",
    "- Une combinaison des trois ou autre."
   ]
  },
  {
   "cell_type": "code",
   "execution_count": 3,
   "metadata": {},
   "outputs": [],
   "source": [
    "def fonction_evaluation(problem, solution):\n",
    "    eval_matrix = creer_matrice_ecarts(problem, solution)\n",
    "    evaluation = np.count_nonzero(eval_matrix)\n",
    "    \n",
    "    return evaluation"
   ]
  },
  {
   "cell_type": "markdown",
   "metadata": {},
   "source": [
    "### Random walk\n",
    "\n",
    "Explore aléatoirement les voisins et renvoie la meilleure solution trouvée. Paramètres modifiables :\n",
    "\n",
    "- max_iterations : nombre d'itérations de l'algorithme."
   ]
  },
  {
   "cell_type": "code",
   "execution_count": 4,
   "metadata": {},
   "outputs": [],
   "source": [
    "from src.optimizers.random_walk import random_walk\n",
    "\n",
    "value, solution = random_walk(problem, fonction_evaluation, max_iterations = 50)"
   ]
  },
  {
   "cell_type": "markdown",
   "metadata": {},
   "source": [
    "### Random descent\n",
    "\n",
    "Sélectionne un voisin aléatoire à chaque itération et le garde seulement si il est meilleur. Paramètres modifiables :\n",
    "\n",
    "- max_iterations : nombre d'itérations de l'algorithme."
   ]
  },
  {
   "cell_type": "code",
   "execution_count": 4,
   "metadata": {},
   "outputs": [],
   "source": [
    "from src.optimizers.random_descent import random_descent\n",
    "\n",
    "value, solution = random_descent(problem, fonction_evaluation, max_iterations = 50)"
   ]
  },
  {
   "cell_type": "markdown",
   "metadata": {},
   "source": [
    "### Steepest descent\n",
    "\n",
    "Sélectionne le meilleur voisin à chaque itération jusqu'à que ce ne soit plus possible. Paramètres modifiables :\n",
    "\n",
    "- max_iterations : nombre d'itérations maximal de l'algorithme (s'arrête avant si tous les voisins sont moins bons)."
   ]
  },
  {
   "cell_type": "code",
   "execution_count": 5,
   "metadata": {},
   "outputs": [],
   "source": [
    "from src.optimizers.steepest_descent import steepest_descent\n",
    "\n",
    "value, solution =  steepest_descent(problem, fonction_evaluation, max_iterations = 50)"
   ]
  },
  {
   "cell_type": "markdown",
   "metadata": {},
   "source": [
    "### Représentation tabou : tabou_element_function\n",
    "\n",
    "A partir des éléments changés lors du choix d'une nouvelle solution, définit la représentation tabou de cette solution. Cela permettra d'exclure toutes les solutions qui ont la même représentation dans le choix du voisin. Paramètres :\n",
    "\n",
    "- i : indice de l'antenne changée\n",
    "- freq : fréquence de cette antenne\n",
    "- value : valeur donnée par fonction_evaluation\n",
    "\n",
    "Valeurs de retour possibles pour tabou_element_function :\n",
    "\n",
    "- value : excluera les solutions pour lesquelles fonction_evaluation renvoit value. \n",
    "- i : excluera les solutions qui modifient l'antenne i.\n",
    "- (i,freq) : excluera les solutions qui affectent la fréquence freq sur l'antenne i.\n",
    "- (i,value) : excluera les solutions qui modifient l'antenne i et pour lesquelles fonction_evaluation renvoit value."
   ]
  },
  {
   "cell_type": "code",
   "execution_count": 6,
   "metadata": {},
   "outputs": [],
   "source": [
    "def tabou_element_function(i, freq, value):\n",
    "    return value"
   ]
  },
  {
   "cell_type": "markdown",
   "metadata": {},
   "source": [
    "### Méthode tabou \n",
    "\n",
    "A chaque itération, choisit le meilleur voisin parmi ceux qui ne sont pas exclus par les représentations tabous. Paramètres modifiables :\n",
    "\n",
    "- max_without_improvement : nombre maximal d'itérations autorisées sans trouver de meilleure solution.\n",
    "- length_list_tabou : nombre maximal de représentations tabous stockées à la fois.\n",
    "- max_iterations : nombre d'itérations maximal (None pour pas de limite)"
   ]
  },
  {
   "cell_type": "code",
   "execution_count": 7,
   "metadata": {},
   "outputs": [],
   "source": [
    "from src.optimizers.tabou import tabou\n",
    "\n",
    "value, solution =  tabou(problem, fonction_evaluation, \n",
    "                                    max_without_improvement = 50, \n",
    "                                    length_list_tabou = 200,\n",
    "                                    tabou_element_function = tabou_element_function,\n",
    "                                    max_iterations = 200)"
   ]
  },
  {
   "cell_type": "code",
   "execution_count": null,
   "metadata": {},
   "outputs": [],
   "source": []
  }
 ],
 "metadata": {
  "kernelspec": {
   "display_name": "Python 3 (ipykernel)",
   "language": "python",
   "name": "python3"
  },
  "language_info": {
   "codemirror_mode": {
    "name": "ipython",
    "version": 3
   },
   "file_extension": ".py",
   "mimetype": "text/x-python",
   "name": "python",
   "nbconvert_exporter": "python",
   "pygments_lexer": "ipython3",
   "version": "3.10.6"
  }
 },
 "nbformat": 4,
 "nbformat_minor": 4
}
