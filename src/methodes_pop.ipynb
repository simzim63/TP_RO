{
 "cells": [
  {
   "cell_type": "markdown",
   "metadata": {},
   "source": [
    "## Import"
   ]
  },
  {
   "cell_type": "code",
   "execution_count": null,
   "metadata": {},
   "outputs": [],
   "source": [
    "import sys, copy, os\n",
    "import numpy as np\n",
    "\n",
    "sys.path.append('..')\n",
    "from src.problem import load_problem\n",
    "from src.evaluation import creer_matrice_ecarts\n",
    "from src.optimpymoo.utlis import freq_from_index, interface_pymoo, identify_pareto, solution_freq, multiobjectivescores, drawhistory\n",
    "\n",
    "from pymoo.core.problem import Problem\n",
    "from pymoo.optimize import minimize\n",
    "from pymoo.factory import get_algorithm, get_crossover, get_mutation, get_sampling\n",
    "from pymoo.factory import get_termination\n",
    "from pymoo.visualization.scatter import Scatter\n",
    "from pymoo.algorithms.soo.nonconvex.pso import PSO\n",
    "from pymoo.algorithms.moo.nsga2 import NSGA2\n",
    "\n",
    "%matplotlib inline"
   ]
  },
  {
   "cell_type": "code",
   "execution_count": null,
   "metadata": {
    "code_folding": [
     0
    ]
   },
   "outputs": [],
   "source": [
    "# Chargement du fichier du problème :\n",
    "problem_freq = load_problem('../tests/fapp05_0050.coo')\n",
    "\n",
    "# interface problem <-> Pymoo ProblemClass\n",
    "n_var, xl, xu = interface_pymoo(problem_freq)"
   ]
  },
  {
   "cell_type": "markdown",
   "metadata": {},
   "source": [
    "## Particle Swarm Optimization (PSO)\n",
    "- mono-objectif &rarr; pondérer les différents objectifs,\n",
    "- optimisation continue &rarr; arrondir à l'entier le plus proche.\n",
    "\n",
    "### Pour chaque agent :\n",
    "<img src=\"optimpymoo/Capture d’écran 2021-02-11 à 15.20.36.png\" style=\"width: 700px;\"/>\n",
    "<img src=\"optimpymoo/pso_light.png\" style=\"width: 700px;\"/>\n",
    "\n",
    "### Globalement :\n",
    "<img src=\"optimpymoo/ParticleSwarmArrowsAnimation.gif\" style=\"width: 500px;\"/>\n",
    "\n",
    "### Etude :\n",
    "- modifier la fonction mono-objectif (un ou plusieurs critères, poids relatifs) au niveau de *F[\"out\"]*,\n",
    "- modifier les paramètres de l'algorithme PSO (nombre d'agents, inertie, etc.).\n"
   ]
  },
  {
   "cell_type": "code",
   "execution_count": null,
   "metadata": {
    "scrolled": true
   },
   "outputs": [],
   "source": [
    "%matplotlib \n",
    "import matplotlib.pyplot as plt\n",
    "\n",
    "def fonction_evaluation(problem, solution):\n",
    "        eval_matrix = creer_matrice_ecarts(problem, solution)\n",
    "        return 20 * eval_matrix.max() + eval_matrix.sum() + 50 * np.count_nonzero(eval_matrix)    \n",
    "\n",
    "# Definition du problème :\n",
    "class MyProblem1D(Problem):\n",
    "\n",
    "    def __init__(self):\n",
    "        super().__init__(n_var=n_var,\n",
    "                         n_obj=1,\n",
    "                         n_constr=0,\n",
    "                         xl=xl,\n",
    "                         xu=xu,\n",
    "                         type_var=int,\n",
    "                        elementwise_evaluation=True)\n",
    "\n",
    "    def _evaluate(self, X, out, *args, **kwargs):\n",
    "        solution = [freq_from_index(problem_freq, np.round(X[i]).astype(int)) for i in range(len(X))]\n",
    "        out[\"F\"] = np.array([fonction_evaluation(problem_freq, x) for x in solution])\n",
    "\n",
    "problem_1D = MyProblem1D()\n",
    "\n",
    "algorithm = PSO(pop_size=10, # Nb d'agents\n",
    "                w=0.9, # terme d'inertie\n",
    "                c1=2.0, # terme d'ancrage individuel\n",
    "                C2=2.0, # terme d'ancrage collectif\n",
    "                max_velocity_rate=0.025,\n",
    "                adaptivebool=False,\n",
    "                #sampling=LatinHypercubeSampling(),\n",
    "                PerturbBest=False,\n",
    "                seed=1)\n",
    "\n",
    "\n",
    "result = minimize(problem_1D,\n",
    "               algorithm,\n",
    "               seed=1,\n",
    "               save_history=True,\n",
    "               verbose=False)\n",
    "\n",
    "pred = solution_freq(problem_freq, result.X)\n",
    "print(\"\\nMeilleure solution trouvée :\\n\", pred)\n",
    "print(f'\\nCoûts associés aux 3 objectifs :\\n', multiobjectivescores(problem_freq, pred))\n",
    "drawhistory(problem_freq, result, f_eval = fonction_evaluation, algo=\"PSO\")"
   ]
  },
  {
   "cell_type": "markdown",
   "metadata": {},
   "source": [
    "## Non-dominated sorting genetic algorithm II (NSGA-II)\n",
    "- multi-objectif,\n",
    "- optimisation mixte (continue & discrète).\n",
    "\n",
    "### Apport NSGA II :\n",
    "<img src=\"optimpymoo/GA_speNSGA.jpeg\" style=\"width: 400px;\"/>\n",
    "\n",
    "#### Rang des Fronts de Pareto & mesure de densité :\n",
    "<img src=\"optimpymoo/Pareto-ordering-of-two-objectives.png\" style=\"width: 400px;\"/>\n",
    "\n",
    "#### Apport NSGA II en détail :\n",
    "<img src=\"optimpymoo/Operating-principle-of-NSGA2.png\" style=\"width: 400px;\"/>\n",
    "\n",
    "### Etude :\n",
    "- modifier les paramètres de l'algorithme NSGA2,\n",
    "- comparer les résultats avec les autres algorithmes."
   ]
  },
  {
   "cell_type": "code",
   "execution_count": null,
   "metadata": {
    "code_folding": [
     0
    ],
    "scrolled": true
   },
   "outputs": [],
   "source": [
    "# Definition du problème :\n",
    "class MyProblem3D(Problem):\n",
    "\n",
    "    def __init__(self):\n",
    "        super().__init__(n_var=n_var,\n",
    "                         n_obj=3,\n",
    "                         n_constr=0,\n",
    "                         xl=xl,\n",
    "                         xu=xu,\n",
    "                         type_var=int,\n",
    "                        elementwise_evaluation=True)\n",
    "\n",
    "    def _evaluate(self, X, out, *args, **kwargs):\n",
    "        l_F = []\n",
    "        for x in X:\n",
    "            solution = freq_from_index(problem_freq, np.round(x).astype(int))\n",
    "            eval_matrix = creer_matrice_ecarts(problem_freq, solution)\n",
    "            f1 = eval_matrix.sum()\n",
    "            f2 = eval_matrix.max()\n",
    "            f3 = np.count_nonzero( eval_matrix )\n",
    "            l_F.append([f1,f2,f3])\n",
    "        out[\"F\"] = np.array(l_F)\n",
    "\n",
    "\n",
    "problem_3D = MyProblem3D()"
   ]
  },
  {
   "cell_type": "code",
   "execution_count": null,
   "metadata": {
    "code_folding": [
     0
    ]
   },
   "outputs": [],
   "source": [
    "# Instantiation algo.\n",
    "method = NSGA2(pop_size=500)\n"
   ]
  },
  {
   "cell_type": "code",
   "execution_count": null,
   "metadata": {
    "code_folding": []
   },
   "outputs": [],
   "source": [
    "%matplotlib\n",
    "\n",
    "# Optimisation :\n",
    "result = minimize(problem_3D,\n",
    "               method,\n",
    "               termination=('n_gen', 50),\n",
    "               seed=1,\n",
    "               save_history=True,\n",
    "               verbose=False)\n",
    "\n",
    "# Meilleure solution pour chaque objectif :\n",
    "idx_best = result.F.argmin(axis=0)\n",
    "pred=dict()\n",
    "for ii,jj in enumerate(idx_best): \n",
    "    print(f'Meilleure solution pour critère n° {ii} :', multiobjectivescores(problem_freq, solution_freq(problem_freq, result.X[jj])))\n",
    "drawhistory(problem_freq, result, f_eval = None, algo=\"NSGA2\")"
   ]
  },
  {
   "cell_type": "code",
   "execution_count": null,
   "metadata": {},
   "outputs": [],
   "source": []
  }
 ],
 "metadata": {
  "kernelspec": {
   "display_name": "Python 3 (ipykernel)",
   "language": "python",
   "name": "python3"
  },
  "language_info": {
   "codemirror_mode": {
    "name": "ipython",
    "version": 3
   },
   "file_extension": ".py",
   "mimetype": "text/x-python",
   "name": "python",
   "nbconvert_exporter": "python",
   "pygments_lexer": "ipython3",
   "version": "3.10.6"
  }
 },
 "nbformat": 4,
 "nbformat_minor": 4
}
